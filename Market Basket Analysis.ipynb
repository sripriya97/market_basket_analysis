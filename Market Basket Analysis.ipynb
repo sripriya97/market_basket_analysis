{
  "cells": [
    {
      "cell_type": "markdown",
      "metadata": {
        "id": "CTa7WThGunXU"
      },
      "source": [
        "# Market Basket Analysis "
      ]
    },
    {
      "cell_type": "markdown",
      "metadata": {
        "id": "gab0awfnvIHC"
      },
      "source": [
        "### Installing Required libraries and packages"
      ]
    },
    {
      "cell_type": "code",
      "execution_count": 1,
      "metadata": {
        "id": "DNB3f8iavNFr",
        "colab": {
          "base_uri": "https://localhost:8080/"
        },
        "outputId": "f93a73d2-36ee-4559-93e9-8f37cb80a3d4"
      },
      "outputs": [
        {
          "output_type": "stream",
          "name": "stdout",
          "text": [
            "Looking in indexes: https://pypi.org/simple, https://us-python.pkg.dev/colab-wheels/public/simple/\n",
            "Requirement already satisfied: mlxtend in /usr/local/lib/python3.10/dist-packages (0.14.0)\n",
            "Requirement already satisfied: scipy>=0.17 in /usr/local/lib/python3.10/dist-packages (from mlxtend) (1.10.1)\n",
            "Requirement already satisfied: numpy>=1.10.4 in /usr/local/lib/python3.10/dist-packages (from mlxtend) (1.22.4)\n",
            "Requirement already satisfied: pandas>=0.17.1 in /usr/local/lib/python3.10/dist-packages (from mlxtend) (1.5.3)\n",
            "Requirement already satisfied: scikit-learn>=0.18 in /usr/local/lib/python3.10/dist-packages (from mlxtend) (1.2.2)\n",
            "Requirement already satisfied: matplotlib>=1.5.1 in /usr/local/lib/python3.10/dist-packages (from mlxtend) (3.7.1)\n",
            "Requirement already satisfied: setuptools in /usr/local/lib/python3.10/dist-packages (from mlxtend) (67.7.2)\n",
            "Requirement already satisfied: contourpy>=1.0.1 in /usr/local/lib/python3.10/dist-packages (from matplotlib>=1.5.1->mlxtend) (1.0.7)\n",
            "Requirement already satisfied: cycler>=0.10 in /usr/local/lib/python3.10/dist-packages (from matplotlib>=1.5.1->mlxtend) (0.11.0)\n",
            "Requirement already satisfied: fonttools>=4.22.0 in /usr/local/lib/python3.10/dist-packages (from matplotlib>=1.5.1->mlxtend) (4.39.3)\n",
            "Requirement already satisfied: kiwisolver>=1.0.1 in /usr/local/lib/python3.10/dist-packages (from matplotlib>=1.5.1->mlxtend) (1.4.4)\n",
            "Requirement already satisfied: packaging>=20.0 in /usr/local/lib/python3.10/dist-packages (from matplotlib>=1.5.1->mlxtend) (23.1)\n",
            "Requirement already satisfied: pillow>=6.2.0 in /usr/local/lib/python3.10/dist-packages (from matplotlib>=1.5.1->mlxtend) (8.4.0)\n",
            "Requirement already satisfied: pyparsing>=2.3.1 in /usr/local/lib/python3.10/dist-packages (from matplotlib>=1.5.1->mlxtend) (3.0.9)\n",
            "Requirement already satisfied: python-dateutil>=2.7 in /usr/local/lib/python3.10/dist-packages (from matplotlib>=1.5.1->mlxtend) (2.8.2)\n",
            "Requirement already satisfied: pytz>=2020.1 in /usr/local/lib/python3.10/dist-packages (from pandas>=0.17.1->mlxtend) (2022.7.1)\n",
            "Requirement already satisfied: joblib>=1.1.1 in /usr/local/lib/python3.10/dist-packages (from scikit-learn>=0.18->mlxtend) (1.2.0)\n",
            "Requirement already satisfied: threadpoolctl>=2.0.0 in /usr/local/lib/python3.10/dist-packages (from scikit-learn>=0.18->mlxtend) (3.1.0)\n",
            "Requirement already satisfied: six>=1.5 in /usr/local/lib/python3.10/dist-packages (from python-dateutil>=2.7->matplotlib>=1.5.1->mlxtend) (1.16.0)\n",
            "Looking in indexes: https://pypi.org/simple, https://us-python.pkg.dev/colab-wheels/public/simple/\n",
            "Requirement already satisfied: mlxtend in /usr/local/lib/python3.10/dist-packages (0.14.0)\n",
            "Collecting mlxtend\n",
            "  Downloading mlxtend-0.22.0-py2.py3-none-any.whl (1.4 MB)\n",
            "\u001b[2K     \u001b[90m━━━━━━━━━━━━━━━━━━━━━━━━━━━━━━━━━━━━━━━━\u001b[0m \u001b[32m1.4/1.4 MB\u001b[0m \u001b[31m16.3 MB/s\u001b[0m eta \u001b[36m0:00:00\u001b[0m\n",
            "\u001b[?25hRequirement already satisfied: scipy>=1.2.1 in /usr/local/lib/python3.10/dist-packages (from mlxtend) (1.10.1)\n",
            "Requirement already satisfied: numpy>=1.16.2 in /usr/local/lib/python3.10/dist-packages (from mlxtend) (1.22.4)\n",
            "Requirement already satisfied: pandas>=0.24.2 in /usr/local/lib/python3.10/dist-packages (from mlxtend) (1.5.3)\n",
            "Requirement already satisfied: scikit-learn>=1.0.2 in /usr/local/lib/python3.10/dist-packages (from mlxtend) (1.2.2)\n",
            "Requirement already satisfied: matplotlib>=3.0.0 in /usr/local/lib/python3.10/dist-packages (from mlxtend) (3.7.1)\n",
            "Requirement already satisfied: joblib>=0.13.2 in /usr/local/lib/python3.10/dist-packages (from mlxtend) (1.2.0)\n",
            "Requirement already satisfied: setuptools in /usr/local/lib/python3.10/dist-packages (from mlxtend) (67.7.2)\n",
            "Requirement already satisfied: contourpy>=1.0.1 in /usr/local/lib/python3.10/dist-packages (from matplotlib>=3.0.0->mlxtend) (1.0.7)\n",
            "Requirement already satisfied: cycler>=0.10 in /usr/local/lib/python3.10/dist-packages (from matplotlib>=3.0.0->mlxtend) (0.11.0)\n",
            "Requirement already satisfied: fonttools>=4.22.0 in /usr/local/lib/python3.10/dist-packages (from matplotlib>=3.0.0->mlxtend) (4.39.3)\n",
            "Requirement already satisfied: kiwisolver>=1.0.1 in /usr/local/lib/python3.10/dist-packages (from matplotlib>=3.0.0->mlxtend) (1.4.4)\n",
            "Requirement already satisfied: packaging>=20.0 in /usr/local/lib/python3.10/dist-packages (from matplotlib>=3.0.0->mlxtend) (23.1)\n",
            "Requirement already satisfied: pillow>=6.2.0 in /usr/local/lib/python3.10/dist-packages (from matplotlib>=3.0.0->mlxtend) (8.4.0)\n",
            "Requirement already satisfied: pyparsing>=2.3.1 in /usr/local/lib/python3.10/dist-packages (from matplotlib>=3.0.0->mlxtend) (3.0.9)\n",
            "Requirement already satisfied: python-dateutil>=2.7 in /usr/local/lib/python3.10/dist-packages (from matplotlib>=3.0.0->mlxtend) (2.8.2)\n",
            "Requirement already satisfied: pytz>=2020.1 in /usr/local/lib/python3.10/dist-packages (from pandas>=0.24.2->mlxtend) (2022.7.1)\n",
            "Requirement already satisfied: threadpoolctl>=2.0.0 in /usr/local/lib/python3.10/dist-packages (from scikit-learn>=1.0.2->mlxtend) (3.1.0)\n",
            "Requirement already satisfied: six>=1.5 in /usr/local/lib/python3.10/dist-packages (from python-dateutil>=2.7->matplotlib>=3.0.0->mlxtend) (1.16.0)\n",
            "Installing collected packages: mlxtend\n",
            "  Attempting uninstall: mlxtend\n",
            "    Found existing installation: mlxtend 0.14.0\n",
            "    Uninstalling mlxtend-0.14.0:\n",
            "      Successfully uninstalled mlxtend-0.14.0\n",
            "Successfully installed mlxtend-0.22.0\n"
          ]
        }
      ],
      "source": [
        "!pip install mlxtend\n",
        "!pip install mlxtend --upgrade\n",
        "import pandas as pd\n",
        "from mlxtend.preprocessing import TransactionEncoder\n",
        "from mlxtend.frequent_patterns import fpgrowth, association_rules, apriori, hmine"
      ]
    },
    {
      "cell_type": "markdown",
      "metadata": {
        "id": "nBXJ4-i0x9iq"
      },
      "source": [
        "### Data Ingestion and Exploration"
      ]
    },
    {
      "cell_type": "code",
      "execution_count": 2,
      "metadata": {
        "colab": {
          "base_uri": "https://localhost:8080/"
        },
        "id": "GkMeT7X7x61z",
        "outputId": "edfc1d05-1811-48a7-a684-67444e991e28"
      },
      "outputs": [
        {
          "output_type": "stream",
          "name": "stderr",
          "text": [
            "/usr/local/lib/python3.10/dist-packages/ipykernel/ipkernel.py:283: DeprecationWarning: `should_run_async` will not call `transform_cell` automatically in the future. Please pass the result to `transformed_cell` argument and any exception that happen during thetransform in `preprocessing_exc_tuple` in IPython 7.17 and above.\n",
            "  and should_run_async(code)\n"
          ]
        },
        {
          "output_type": "stream",
          "name": "stdout",
          "text": [
            "\n",
            "Data shape: (541909, 8)\n",
            "\n",
            "Data columns: Index(['InvoiceNo', 'StockCode', 'Description', 'Quantity', 'InvoiceDate',\n",
            "       'UnitPrice', 'CustomerID', 'Country'],\n",
            "      dtype='object')\n",
            "\n",
            "Sample data:\n",
            "  InvoiceNo StockCode                          Description  Quantity  \\\n",
            "0    536365    85123A   WHITE HANGING HEART T-LIGHT HOLDER         6   \n",
            "1    536365     71053                  WHITE METAL LANTERN         6   \n",
            "2    536365    84406B       CREAM CUPID HEARTS COAT HANGER         8   \n",
            "3    536365    84029G  KNITTED UNION FLAG HOT WATER BOTTLE         6   \n",
            "4    536365    84029E       RED WOOLLY HOTTIE WHITE HEART.         6   \n",
            "\n",
            "          InvoiceDate  UnitPrice  CustomerID         Country  \n",
            "0 2010-12-01 08:26:00       2.55     17850.0  United Kingdom  \n",
            "1 2010-12-01 08:26:00       3.39     17850.0  United Kingdom  \n",
            "2 2010-12-01 08:26:00       2.75     17850.0  United Kingdom  \n",
            "3 2010-12-01 08:26:00       3.39     17850.0  United Kingdom  \n",
            "4 2010-12-01 08:26:00       3.39     17850.0  United Kingdom  \n",
            "\n",
            " InvoiceNo              object\n",
            "StockCode              object\n",
            "Description            object\n",
            "Quantity                int64\n",
            "InvoiceDate    datetime64[ns]\n",
            "UnitPrice             float64\n",
            "CustomerID            float64\n",
            "Country                object\n",
            "dtype: object\n"
          ]
        }
      ],
      "source": [
        "#Reading the data\n",
        "data = pd.read_excel(\"/content/Online Retail.xlsx\")\n",
        "#To read from the link\n",
        "# data = pd.read_excel(\"https://archive.ics.uci.edu/ml/machine-learning-databases/00352/Online%20Retail.xlsx\")\n",
        "\n",
        "#Data Exploration\n",
        "print(\"\\nData shape:\", data.shape)\n",
        "print(\"\\nData columns:\", data.columns)\n",
        "print(\"\\nSample data:\")\n",
        "print(data.head())\n",
        "\n",
        "#Checking the data types of columns\n",
        "print(\"\\n\",data.dtypes)"
      ]
    },
    {
      "cell_type": "code",
      "source": [
        "#Finding the most frequent product for sample recommendations\n",
        "product_counts = data['StockCode'].value_counts()\n",
        "print(\"The most frequently occurring product is:\", product_counts)"
      ],
      "metadata": {
        "colab": {
          "base_uri": "https://localhost:8080/"
        },
        "id": "Iv7E3_HRgcSG",
        "outputId": "d48cdb6a-2845-46f1-9b4c-c718020daefc"
      },
      "execution_count": 3,
      "outputs": [
        {
          "output_type": "stream",
          "name": "stdout",
          "text": [
            "The most frequently occurring product is: 85123A    2313\n",
            "22423     2203\n",
            "85099B    2159\n",
            "47566     1727\n",
            "20725     1639\n",
            "          ... \n",
            "21431        1\n",
            "22275        1\n",
            "17001        1\n",
            "90187A       1\n",
            "72759        1\n",
            "Name: StockCode, Length: 4070, dtype: int64\n"
          ]
        },
        {
          "output_type": "stream",
          "name": "stderr",
          "text": [
            "/usr/local/lib/python3.10/dist-packages/ipykernel/ipkernel.py:283: DeprecationWarning: `should_run_async` will not call `transform_cell` automatically in the future. Please pass the result to `transformed_cell` argument and any exception that happen during thetransform in `preprocessing_exc_tuple` in IPython 7.17 and above.\n",
            "  and should_run_async(code)\n"
          ]
        }
      ]
    },
    {
      "cell_type": "markdown",
      "metadata": {
        "id": "cQTr5oCCyIVR"
      },
      "source": [
        "### Preprocessing and Feature Engineering"
      ]
    },
    {
      "cell_type": "code",
      "execution_count": 4,
      "metadata": {
        "colab": {
          "base_uri": "https://localhost:8080/"
        },
        "id": "BA7hWLUYuntB",
        "outputId": "67a7dc92-1b7e-4e38-b24f-242e0804fb41"
      },
      "outputs": [
        {
          "output_type": "stream",
          "name": "stderr",
          "text": [
            "/usr/local/lib/python3.10/dist-packages/ipykernel/ipkernel.py:283: DeprecationWarning: `should_run_async` will not call `transform_cell` automatically in the future. Please pass the result to `transformed_cell` argument and any exception that happen during thetransform in `preprocessing_exc_tuple` in IPython 7.17 and above.\n",
            "  and should_run_async(code)\n"
          ]
        },
        {
          "output_type": "stream",
          "name": "stdout",
          "text": [
            "InvoiceNo           0\n",
            "StockCode           0\n",
            "Description      1454\n",
            "Quantity            0\n",
            "InvoiceDate         0\n",
            "UnitPrice           0\n",
            "CustomerID     135080\n",
            "Country             0\n",
            "dtype: int64\n",
            "\n",
            "Unique Values in Description 3876\n",
            "Unique Values in Stock Code 3664\n",
            "\n",
            " Descriptions with multiple StockCodes : \n",
            "                           Description  StockCode_Count\n",
            "2014   METAL SIGN,CUPCAKE SINGLE HOOK                3\n",
            "826      COLOURING PENCILS BROWN TUBE                2\n",
            "1077  EAU DE NILE JEWELLED PHOTOFRAME                2\n",
            "3677      WHITE BAMBOO RIBS LAMPSHADE                2\n",
            "2460    PINK FAIRY CAKE CUSHION COVER                2\n",
            "\n",
            " StockCodes with multiple Descriptions : \n",
            "      StockCode  Description_Count\n",
            "2020     23196                  4\n",
            "2060     23236                  4\n",
            "1951     23126                  3\n",
            "2033     23209                  3\n",
            "2199     23396                  3\n",
            "\n",
            "Unique Values in Description 3419\n",
            "Unique Values in Stock Code 3419\n"
          ]
        }
      ],
      "source": [
        "#Preprocessing\n",
        "\n",
        "#Checking for null values and dropping them\n",
        "print(data.isna().sum())\n",
        "data.dropna(inplace=True)\n",
        "\n",
        "#Excluding rows where InvoiceNo starts with 'C' - refers to refund transactions\n",
        "data = data[~data['InvoiceNo'].astype(str).str.startswith('C')]\n",
        "\n",
        "#Excluding rows with negative or zero quantity\n",
        "data = data[data['Quantity'] > 0]\n",
        "\n",
        "#Excluding rows with negative or zero quantity\n",
        "data = data[data[\"UnitPrice\"] > 0]\n",
        "\n",
        "#Converting StockCode to String Type\n",
        "data['StockCode'] = data['StockCode'].astype(str)\n",
        "\n",
        "#Removing row labeled POST in StockCode, as it is not a product\n",
        "data = data[~data[\"StockCode\"].str.contains(\"POST\", na=False)]\n",
        "\n",
        "#Checking number of unique values in Description\n",
        "print(\"\\nUnique Values in Description\",data.Description.nunique())\n",
        "\n",
        "#Checking number of unique values in Stockcode\n",
        "print(\"Unique Values in Stock Code\",data.StockCode.nunique())\n",
        "\n",
        "#Since the number of unqiue values should be same for description and stock code for 1-1 product mapping, we will remove entries with multiple mappings\n",
        "#Removing Descriptions mapped to multiple StockCodes\n",
        "df_inter = data[[\"Description\",\"StockCode\"]].drop_duplicates()\n",
        "df_inter = df_inter.groupby([\"Description\"]).agg({\"StockCode\":\"count\"}).reset_index()\n",
        "df_inter.rename(columns = {'StockCode':'StockCode_Count'},inplace = True)\n",
        "df_inter = df_inter.sort_values(\"StockCode_Count\", ascending = False)\n",
        "df_inter = df_inter[df_inter[\"StockCode_Count\"] > 1]\n",
        "print(\"\\n Descriptions with multiple StockCodes : \\n\",df_inter.head() )\n",
        "df = data[~data[\"Description\"].isin(df_inter[\"Description\"])]\n",
        "\n",
        "#Removing StockCodes mapped to multiple Descriptions\n",
        "df_inter = df[[\"Description\",\"StockCode\"]].drop_duplicates()\n",
        "df_inter = df_inter.groupby([\"StockCode\"]).agg({\"Description\":\"count\"}).reset_index()\n",
        "df_inter.rename(columns = {'Description':'Description_Count'},inplace=True)\n",
        "df_inter = df_inter.sort_values(\"Description_Count\", ascending = False)\n",
        "df_inter = df_inter[df_inter[\"Description_Count\"] > 1] \n",
        "print(\"\\n StockCodes with multiple Descriptions : \\n\",df_inter.head())\n",
        "df = df[~df[\"StockCode\"].isin(df_inter[\"StockCode\"])]\n",
        "\n",
        "#Checking number of unique values in Description\n",
        "print(\"\\nUnique Values in Description\",df.Description.nunique())\n",
        "\n",
        "#Checking number of unique values in Stockcode\n",
        "print(\"Unique Values in Stock Code\",df.StockCode.nunique())"
      ]
    },
    {
      "cell_type": "markdown",
      "metadata": {
        "id": "3Rh2pZZxQhfA"
      },
      "source": [
        "### Association Rule Learning Algorithms"
      ]
    },
    {
      "cell_type": "code",
      "execution_count": 5,
      "metadata": {
        "colab": {
          "base_uri": "https://localhost:8080/"
        },
        "id": "yQquV3OF2AVj",
        "outputId": "5fdc0c9f-1c0c-4779-dc13-68fa25813193"
      },
      "outputs": [
        {
          "output_type": "stream",
          "name": "stderr",
          "text": [
            "/usr/local/lib/python3.10/dist-packages/ipykernel/ipkernel.py:283: DeprecationWarning: `should_run_async` will not call `transform_cell` automatically in the future. Please pass the result to `transformed_cell` argument and any exception that happen during thetransform in `preprocessing_exc_tuple` in IPython 7.17 and above.\n",
            "  and should_run_async(code)\n"
          ]
        },
        {
          "output_type": "stream",
          "name": "stdout",
          "text": [
            "FP-Growth Results:\n",
            "   antecedents consequents  antecedent support  consequent support   support  \\\n",
            "10     (22745)     (22748)            0.017274            0.018914  0.013885   \n",
            "11     (22748)     (22745)            0.018914            0.017274  0.013885   \n",
            "14     (22727)     (22726)            0.047942            0.043131  0.028973   \n",
            "15     (22726)     (22727)            0.043131            0.047942  0.028973   \n",
            "19     (22728)     (22727)            0.033510            0.047942  0.021648   \n",
            "\n",
            "    confidence       lift  leverage  conviction  zhangs_metric  \n",
            "10    0.803797  42.496726  0.013558    5.000372       0.993633  \n",
            "11    0.734104  42.496726  0.013558    3.695903       0.995294  \n",
            "14    0.604333  14.011486  0.026905    2.418369       0.975392  \n",
            "15    0.671736  14.011486  0.026905    2.900285       0.970488  \n",
            "19    0.646003  13.474729  0.020041    2.689455       0.957886  \n",
            "H-Mine Results:\n",
            "   antecedents consequents  antecedent support  consequent support   support  \\\n",
            "2      (20712)    (85099B)            0.026896            0.087465  0.014322   \n",
            "8      (20719)     (20724)            0.029027            0.040398  0.015798   \n",
            "14     (20723)     (20724)            0.026896            0.040398  0.016181   \n",
            "22     (22355)     (20724)            0.031979            0.040398  0.016290   \n",
            "24     (22356)     (20724)            0.026622            0.040398  0.017602   \n",
            "\n",
            "    confidence       lift  leverage  conviction  zhangs_metric  \n",
            "2     0.532520   6.088371  0.011970    1.952031       0.858852  \n",
            "8     0.544256  13.472364  0.014626    2.105573       0.953450  \n",
            "14    0.601626  14.892483  0.015095    2.408797       0.958635  \n",
            "22    0.509402  12.609588  0.014998    1.955983       0.951111  \n",
            "24    0.661191  16.366937  0.016527    2.832280       0.964580  \n",
            "Apriori Results:\n",
            "   antecedents consequents  antecedent support  consequent support   support  \\\n",
            "2      (20712)    (85099B)            0.026896            0.087465  0.014322   \n",
            "8      (20719)     (20724)            0.029027            0.040398  0.015798   \n",
            "14     (20723)     (20724)            0.026896            0.040398  0.016181   \n",
            "22     (22355)     (20724)            0.031979            0.040398  0.016290   \n",
            "24     (22356)     (20724)            0.026622            0.040398  0.017602   \n",
            "\n",
            "    confidence       lift  leverage  conviction  zhangs_metric  \n",
            "2     0.532520   6.088371  0.011970    1.952031       0.858852  \n",
            "8     0.544256  13.472364  0.014626    2.105573       0.953450  \n",
            "14    0.601626  14.892483  0.015095    2.408797       0.958635  \n",
            "22    0.509402  12.609588  0.014998    1.955983       0.951111  \n",
            "24    0.661191  16.366937  0.016527    2.832280       0.964580  \n"
          ]
        }
      ],
      "source": [
        "#Feature Engineering\n",
        "\n",
        "#Creating a list of transactions for each invoice\n",
        "transactions = df.groupby('InvoiceNo')['StockCode'].apply(list).values.tolist()\n",
        "\n",
        "#Converting the transaction list into a transaction matrix\n",
        "te = TransactionEncoder()\n",
        "te_ary = te.fit_transform(transactions)\n",
        "invoice_product_matrix = pd.DataFrame(te_ary, columns = te.columns_)\n",
        "\n",
        "#FP-Growth Algorithm\n",
        "#Applying FP-Growth algorithm to find frequent itemsets\n",
        "frequent_itemsets_fp = fpgrowth(invoice_product_matrix, min_support = 0.01, use_colnames = True)\n",
        "#Generating association rules from frequent itemsets\n",
        "rules_fp = association_rules(frequent_itemsets_fp, metric = \"lift\", min_threshold = 1)\n",
        "rules_fp = rules_fp[rules_fp['confidence'] > 0.5]  \n",
        "\n",
        "#H-Mine Algorithm\n",
        "#Appling H-Mine algorithm to find frequent itemsets\n",
        "frequent_itemsets_hmine = hmine(invoice_product_matrix, min_support = 0.01, use_colnames = True)\n",
        "#Generating association rules from frequent itemsets\n",
        "rules_hmine = association_rules(frequent_itemsets_hmine, metric = \"lift\", min_threshold = 1)\n",
        "rules_hmine = rules_hmine[rules_hmine['confidence'] > 0.5] \n",
        "\n",
        "#Apriori Algorithm\n",
        "#Applying Apriori algorithm to find frequent itemsets\n",
        "frequent_itemsets_apriori = apriori(invoice_product_matrix, min_support = 0.01, use_colnames=True)\n",
        "#Generating association rules from frequent itemsets\n",
        "rules_apriori = association_rules(frequent_itemsets_apriori, metric = \"lift\", min_threshold = 1)\n",
        "rules_apriori = rules_apriori[rules_apriori['confidence'] > 0.5]  \n",
        "\n",
        "#Reading results and inferences\n",
        "print(\"\\n\\nFP-Growth Results:\")\n",
        "print(rules_fp.head())\n",
        "\n",
        "print(\"\\n\\nH-Mine Results:\")\n",
        "print(rules_hmine.head())\n",
        "\n",
        "print(\"\\n\\nApriori Results:\")\n",
        "print(rules_apriori.head())"
      ]
    },
    {
      "cell_type": "code",
      "execution_count": 6,
      "metadata": {
        "id": "O5e9W1scPd36",
        "colab": {
          "base_uri": "https://localhost:8080/"
        },
        "outputId": "cdad0a04-71fa-4192-a711-d94949131e08"
      },
      "outputs": [
        {
          "output_type": "stream",
          "name": "stdout",
          "text": [
            "\n",
            "For  REGENCY CAKESTAND 3 TIER  we will be recommending products based on each algorithm :\n",
            "\n",
            "Fp-Growth algorithm :\n",
            "['ROSES REGENCY TEACUP AND SAUCER ', 'GREEN REGENCY TEACUP AND SAUCER', 'PINK REGENCY TEACUP AND SAUCER']\n",
            "\n",
            "H-Mine Algorithm :\n",
            "['JUMBO BAG PINK POLKADOT', 'PACK OF 72 RETROSPOT CAKE CASES', 'JUMBO BAG RED RETROSPOT', 'LUNCH BAG SPACEBOY DESIGN ', 'LUNCH BAG  BLACK SKULL.']\n",
            "\n",
            "Apriori Algorithm :\n",
            "['ROSES REGENCY TEACUP AND SAUCER ', 'GREEN REGENCY TEACUP AND SAUCER', 'JUMBO BAG APPLES', 'JUMBO BAG PEARS', 'JUMBO BAG VINTAGE LEAF']\n"
          ]
        },
        {
          "output_type": "stream",
          "name": "stderr",
          "text": [
            "/usr/local/lib/python3.10/dist-packages/ipykernel/ipkernel.py:283: DeprecationWarning: `should_run_async` will not call `transform_cell` automatically in the future. Please pass the result to `transformed_cell` argument and any exception that happen during thetransform in `preprocessing_exc_tuple` in IPython 7.17 and above.\n",
            "  and should_run_async(code)\n"
          ]
        }
      ],
      "source": [
        "#Recommender Engine\n",
        "\n",
        "#Creating a function that will provide the top 5 products the customer might buy, based on a given input product\n",
        "def recommend_products(association_rules, input_product_id, num_recommendations):\n",
        "  \n",
        "  #Creating an empty list to store the recommendations\n",
        "  recommendation_list = []\n",
        "\n",
        "  for idx, product in enumerate(association_rules[\"antecedents\"]):\n",
        "    \n",
        "    #For each instance of the presence of chosen product as antecedent, we traverse the list of subsequent associations\n",
        "    for j in list(product):\n",
        "      if j == input_product_id:\n",
        "        recommendation_list.append(list(rules_fp.iloc[idx][\"consequents\"])[0])\n",
        "        recommendation_list = list( dict.fromkeys(recommendation_list) )\n",
        "  \n",
        "  #Filtering for the required number of recommendations\n",
        "  reco_products = recommendation_list[0 : num_recommendations]\n",
        "\n",
        "  return reco_products\n",
        "\n",
        "#Creating a function to retrieve the Product Description given StockCode\n",
        "def get_descriptions(df, product_ids):\n",
        "    descriptions = df[df['StockCode'].isin(product_ids)]['Description'].unique()\n",
        "    return descriptions.tolist()\n",
        "\n",
        "#Sample Input\n",
        "input_product_id = '22423' #Specify the input product ID\n",
        "num_recommendations = 5  #Specify the number of recommendations desired\n",
        "\n",
        "#Displaying the user input product\n",
        "description = df.loc[df['StockCode'] == input_product_id, 'Description'].iloc[0]\n",
        "print(\"\\nFor \", description,\" we will be recommending products based on each algorithm :\")\n",
        "\n",
        "#Recommending top 5 products to customer based on FP-Growth Algorithm\n",
        "fp_recommended_products = recommend_products(rules_fp, input_product_id, num_recommendations)\n",
        "print(\"\\nFp-Growth algorithm :\")\n",
        "descriptions = get_descriptions(df, fp_recommended_products)\n",
        "print(descriptions)\n",
        "\n",
        "#Recommending top 5 products to customer based on H-Mine Algorithm\n",
        "hmine_recommended_products = recommend_products(rules_hmine, input_product_id, num_recommendations)\n",
        "print(\"\\nH-Mine Algorithm :\")\n",
        "descriptions = get_descriptions(df, hmine_recommended_products)\n",
        "print(descriptions)\n",
        "\n",
        "#Recommending top 5 products to customer based on Apriori Algorithm\n",
        "apriori_recommended_products = recommend_products(rules_apriori, input_product_id, num_recommendations)\n",
        "print(\"\\nApriori Algorithm :\")\n",
        "descriptions = get_descriptions(df, apriori_recommended_products)\n",
        "print(descriptions)"
      ]
    }
  ],
  "metadata": {
    "colab": {
      "provenance": [],
      "machine_shape": "hm",
      "gpuType": "A100"
    },
    "kernelspec": {
      "display_name": "Python 3",
      "name": "python3"
    },
    "language_info": {
      "codemirror_mode": {
        "name": "ipython",
        "version": 3
      },
      "file_extension": ".py",
      "mimetype": "text/x-python",
      "name": "python",
      "nbconvert_exporter": "python",
      "pygments_lexer": "ipython3",
      "version": "3.9.12"
    },
    "accelerator": "GPU"
  },
  "nbformat": 4,
  "nbformat_minor": 0
}